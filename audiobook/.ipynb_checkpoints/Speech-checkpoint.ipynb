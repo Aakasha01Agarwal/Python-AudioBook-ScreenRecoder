{
 "cells": [
  {
   "cell_type": "code",
   "execution_count": null,
   "metadata": {},
   "outputs": [],
   "source": [
    "import pyttsx3\n",
    "import PyPDF2\n",
    "book = open('The Theory of Everything.pdf', 'rb')\n",
    "pdfReader = PyPDF2.PdfFileReader(book)\n",
    "pages = pdfReader.numPages\n",
    "speaker = pyttsx3.init()\n",
    "rate = speaker.getProperty('rate')\n",
    "speaker.setProperty('rate', 120)\n",
    "voices = speaker.getProperty('voices')       #getting details of current voice\n",
    "speaker.setProperty('voice', voices[0].id)\n",
    "for num in range(8, 9):\n",
    "    page = pdfReader.getPage(num)\n",
    "    text = page.extractText()\n",
    "    speaker.say(text)\n",
    "    speaker.save_to_file(text,'test.mp3')\n",
    "    speaker.runAndWait()"
   ]
  }
 ],
 "metadata": {
  "kernelspec": {
   "display_name": "Python 3",
   "language": "python",
   "name": "python3"
  },
  "language_info": {
   "codemirror_mode": {
    "name": "ipython",
    "version": 3
   },
   "file_extension": ".py",
   "mimetype": "text/x-python",
   "name": "python",
   "nbconvert_exporter": "python",
   "pygments_lexer": "ipython3",
   "version": "3.8.3"
  }
 },
 "nbformat": 4,
 "nbformat_minor": 4
}
